{
 "cells": [
  {
   "cell_type": "code",
   "execution_count": null,
   "metadata": {},
   "outputs": [],
   "source": [
    "import numpy as np\n",
    "\n",
    "from sklearn.metrics import roc_auc_score, average_precision_score, matthews_corrcoef\n",
    "from sklearn.metrics import confusion_matrix\n",
    "import pandas as pd\n",
    "\n",
    "import matplotlib.pyplot as plt\n",
    "\n",
    "import warnings\n",
    "warnings.filterwarnings(\"ignore\", category=RuntimeWarning)"
   ]
  },
  {
   "cell_type": "code",
   "execution_count": 22,
   "metadata": {},
   "outputs": [],
   "source": [
    "#Get a list of all species names\n",
    "species_list = ['alligator_mississippiensis', 'anolis_carolinensis', 'anopheles_gambiae', 'apis_mellifera', 'arabidopsis_thaliana', 'aspergillus_nidulans', 'bos_taurus', 'brachypodium_distachyon', 'caenorhabditis_elegans', 'canis_lupus_familiaris', 'columba_livia', 'coprinopsis_cinerea', 'cryptococcus_neoformans', 'danio_rerio', 'daphnia_carinata', 'dictyostelium_discoideum', 'drosophila_melanogaster', 'eimeria_maxima', 'entamoeba_histolytica', 'equus_caballus', 'gallus_gallus', 'giardia_intestinalis', 'glycine_max', 'gorilla_gorilla', 'homo_sapiens', 'hordeum_vulgare', 'leishmania_donovani', 'lotus_japonicus', 'manduca_sexta', 'medicago_truncatula', 'mus_musculus', 'neurospora_crassa', 'nicotiana_tabacum', 'oreochromis_niloticus', 'oryctolagus_cuniculus', 'oryza_sativa', 'oryzias_latipes', 'ovis_aries', 'pan_troglodytes', 'phoenix_dactylifera', 'plasmodium_falciparum', 'rattus_norvegicus', 'rhizophagus_irregularis', 'saccharomyces_cerevisiae', 'schizophyllum_commune', 'schizosaccharomyces_pombe', 'selaginella_moellendorffii', 'setaria_viridis', 'solanum_lycopersicum', 'strongylocentrotus_purpuratus', 'sus_scrofa', 'taeniopygia_guttata', 'toxoplasma_gondii', 'tribolium_castaneum', 'trichoplax_adhaerens', 'triticum_aestivum', 'trypanosoma_brucei', 'ustilago_maydis', 'xenopus_laevis', 'zea_mays']\n",
    "\n",
    "protozoa_list = ['plasmodium_falciparum', 'entamoeba_histolytica', 'dictyostelium_discoideum',\n",
    "                 'giardia_intestinalis', 'trypanosoma_brucei', 'leishmania_donovani', \n",
    "                 'toxoplasma_gondii', 'eimeria_maxima']\n",
    "\n",
    "fungi_list = ['saccharomyces_cerevisiae', 'ustilago_maydis', 'schizosaccharomyces_pombe',\n",
    "              'aspergillus_nidulans', 'cryptococcus_neoformans', 'neurospora_crassa', \n",
    "              'coprinopsis_cinerea', 'rhizophagus_irregularis', 'schizophyllum_commune']\n",
    "\n",
    "plants_list = ['oryza_sativa', 'arabidopsis_thaliana', 'selaginella_moellendorffii', \"brachypodium_distachyon\", \n",
    "               \"setaria_viridis\", \"zea_mays\", \"hordeum_vulgare\", \n",
    "               \"triticum_aestivum\", \"phoenix_dactylifera\", \"lotus_japonicus\",\n",
    "               \"medicago_truncatula\", \"nicotiana_tabacum\", \"glycine_max\", \"solanum_lycopersicum\"]\n",
    "\n",
    "invertebrates_list = ['trichoplax_adhaerens', 'tribolium_castaneum', 'manduca_sexta', \n",
    "                      'apis_mellifera', 'strongylocentrotus_purpuratus', 'daphnia_carinata', \n",
    "                      'drosophila_melanogaster', 'anopheles_gambiae', 'caenorhabditis_elegans']\n",
    "\n",
    "vertebrates_list = ['gallus_gallus', 'alligator_mississippiensis', 'xenopus_laevis',\n",
    "                    'oreochromis_niloticus', 'homo_sapiens', 'bos_taurus', \"mus_musculus\", \"ovis_aries\", \"canis_lupus_familiaris\", \n",
    "                    \"equus_caballus\", \"gorilla_gorilla\", \"pan_troglodytes\",\n",
    "                    \"rattus_norvegicus\", \"oryctolagus_cuniculus\", \"sus_scrofa\",\n",
    "                    \"danio_rerio\", \"oryzias_latipes\", \"taeniopygia_guttata\",\n",
    "                    \"columba_livia\", \"anolis_carolinensis\"]"
   ]
  },
  {
   "cell_type": "code",
   "execution_count": 23,
   "metadata": {},
   "outputs": [],
   "source": [
    "netstart_overall_df = pd.read_csv('../../data/data_evaluation/preds_processed/testset/netstart_overall_df.csv.gz')\n",
    "netstart_phylum_df = pd.read_csv('../../data/data_evaluation/preds_processed/testset/netstart_phylum_level_df.csv.gz')\n",
    "netstart_species_unknown_df = pd.read_csv('../../data/data_evaluation/preds_processed/testset/netstart_species_unknown_df.csv.gz')\n",
    "TIS_transformer_df_full = pd.read_csv('../../data/data_evaluation/preds_processed/testset/TIS_transformer_df.csv.gz')"
   ]
  },
  {
   "cell_type": "code",
   "execution_count": 25,
   "metadata": {},
   "outputs": [],
   "source": [
    "netstart_overall_df = netstart_overall_df[~netstart_overall_df[\"seq_type\"].isin([\"Intron\", \"Intergenic\"])]\n",
    "netstart_phylum_df = netstart_phylum_df[~netstart_phylum_df[\"seq_type\"].isin([\"Intron\", \"Intergenic\"])]\n",
    "netstart_species_unknown_df = netstart_species_unknown_df[~netstart_species_unknown_df[\"seq_type\"].isin([\"Intron\", \"Intergenic\"])]\n",
    "TIS_transformer_df = TIS_transformer_df_full[~TIS_transformer_df_full[\"seq_type\"].isin([\"Intron\", \"Intergenic\"])]"
   ]
  },
  {
   "cell_type": "code",
   "execution_count": 26,
   "metadata": {},
   "outputs": [],
   "source": [
    "def extract_similar_sequences(species, threshold):\n",
    "    \"\"\" \n",
    "    Extract sequence numbers of sequences homologous to TIS Transformer training data. \n",
    "    \"\"\"\n",
    "    similar_sequences = []\n",
    "    with open(f\"../../data/data_evaluation/TIS_transformer/similar_sequences/similar_sequences_{species}.txt\", \"r\") as infile:\n",
    "        for line in infile:\n",
    "            if float(line.split(\"|\")[1].strip()) > threshold:\n",
    "                similar_sequences.append(line.split(\"|\")[0])\n",
    "\n",
    "    return similar_sequences"
   ]
  },
  {
   "cell_type": "code",
   "execution_count": null,
   "metadata": {},
   "outputs": [],
   "source": [
    "TIS_transformer_df_placeholder = pd.DataFrame()\n",
    "netstart_overall_df_placeholder = pd.DataFrame()\n",
    "netstart_phylum_df_placeholder = pd.DataFrame()\n",
    "netstart_species_unknown_df_placeholder = pd.DataFrame()\n",
    "\n",
    "##Remove sequences homologous to TIS Transformer training set for comparison with the other results (use the same testset)\n",
    "for species in species_list:\n",
    "    similar_sequences_species = extract_similar_sequences(species, 50)\n",
    "    all_sequences_species = TIS_transformer_df[(TIS_transformer_df[\"species\"] == species) & (TIS_transformer_df[\"label\"] == 1.0)]\n",
    "\n",
    "    #Get non-homologous species data\n",
    "    TIS_transformer_df_species = TIS_transformer_df[(TIS_transformer_df[\"species\"] == species) & (~TIS_transformer_df[\"seq_number\"].isin(similar_sequences_species))]\n",
    "    netstart_overall_df_species = netstart_overall_df[(netstart_overall_df[\"species\"] == species) & (~netstart_overall_df[\"seq_number\"].isin(similar_sequences_species))]\n",
    "    netstart_phylum_df_species = netstart_phylum_df[(netstart_phylum_df[\"species\"] == species) & (~netstart_phylum_df[\"seq_number\"].isin(similar_sequences_species))]\n",
    "    netstart_unknown_df_species = netstart_species_unknown_df[(netstart_species_unknown_df[\"species\"] == species) & (~netstart_species_unknown_df[\"seq_number\"].isin(similar_sequences_species))]\n",
    "\n",
    "    #Add to dataframe\n",
    "    TIS_transformer_df_placeholder = pd.concat([TIS_transformer_df_placeholder, TIS_transformer_df_species])\n",
    "    netstart_overall_df_placeholder = pd.concat([netstart_overall_df_placeholder, netstart_overall_df_species])\n",
    "    netstart_phylum_df_placeholder = pd.concat([netstart_phylum_df_placeholder, netstart_phylum_df_species])\n",
    "    netstart_species_unknown_df_placeholder = pd.concat([netstart_species_unknown_df_placeholder, netstart_unknown_df_species])\n",
    "\n",
    "netstart_overall_df = netstart_overall_df_placeholder\n",
    "netstart_phylum_df = netstart_phylum_df_placeholder\n",
    "netstart_species_unknown_df = netstart_species_unknown_df_placeholder\n"
   ]
  },
  {
   "cell_type": "code",
   "execution_count": 28,
   "metadata": {},
   "outputs": [],
   "source": [
    "assert netstart_phylum_df.shape[0] == netstart_overall_df.shape[0] == netstart_species_unknown_df.shape[0]"
   ]
  },
  {
   "cell_type": "code",
   "execution_count": 29,
   "metadata": {},
   "outputs": [],
   "source": [
    "def get_threshold(pred_df):\n",
    "    \"\"\"\n",
    "    Find MCC-optimized threshold.\n",
    "    \"\"\"\n",
    "\n",
    "    #Find global MCC-optimized threshold based on testset (partition 5)\n",
    "    thresholds = [0.01, 0.025, 0.05, 0.075, 0.1, 0.125, 0.15, 0.175, 0.2, 0.225, 0.25, 0.275, 0.3, 0.325, 0.35, 0.375, 0.4, 0.425, 0.45, 0.475, 0.5, 0.525, 0.55,\n",
    "                  0.575, 0.6, 0.625, 0.65, 0.675, 0.7, 0.725, 0.75, 0.775, 0.8, 0.825, 0.85, 0.875, 0.9, 0.925, 0.95, 0.975, 1] \n",
    "    \n",
    "    #initialize\n",
    "    mccs = []\n",
    "    tpr = []\n",
    "    fpr = []\n",
    "    precision = []\n",
    "    \n",
    "    for threshold in thresholds:\n",
    "        cm = confusion_matrix(np.array(pred_df[\"label\"]), (np.array(pred_df[\"preds\"]) >= threshold).astype(int))\n",
    "        tn, fp, fn, tp = cm.ravel()\n",
    "        current_tpr = tp / (tp + fn)\n",
    "        current_fpr = fp / (fp + tn)\n",
    "        current_precision = tp / (tp + fp)\n",
    "\n",
    "        # Append TPR for the current threshold\n",
    "        tpr.append(current_tpr)\n",
    "        fpr.append(current_fpr)\n",
    "        precision.append(current_precision)\n",
    "        mccs.append(matthews_corrcoef(np.array(pred_df[\"label\"]), (np.array(pred_df[\"preds\"]) >= threshold).astype(int))) \n",
    "\n",
    "    best_threshold, best_mcc, best_tpr, best_fpr, best_precision = max(zip(thresholds, mccs, tpr, fpr, precision), key=lambda x: x[1])\n",
    "    \n",
    "    pr_auc = average_precision_score(pred_df[\"label\"], pred_df[\"preds\"])\n",
    "    roc_auc = roc_auc_score(pred_df[\"label\"], pred_df[\"preds\"])\n",
    "    print(\"Best MCC: \", best_mcc)\n",
    "    print(\"Best TPR: \", best_tpr)\n",
    "    print(\"Best FPR: \", best_fpr)\n",
    "    print(\"Best precision: \", best_precision)\n",
    "    print(\"ROC: \", roc_auc)\n",
    "    print(\"PR: \", pr_auc)"
   ]
  },
  {
   "cell_type": "code",
   "execution_count": 30,
   "metadata": {},
   "outputs": [
    {
     "name": "stdout",
     "output_type": "stream",
     "text": [
      "Best MCC:  0.9381650914143683\n",
      "Best TPR:  0.9346168431193694\n",
      "Best FPR:  0.006492315988136964\n",
      "Best precision:  0.9588557849523419\n",
      "ROC:  0.9971468498075933\n",
      "PR:  0.9861738677780294\n"
     ]
    }
   ],
   "source": [
    "best_threshold_netstart = get_threshold(netstart_overall_df)"
   ]
  },
  {
   "cell_type": "code",
   "execution_count": 31,
   "metadata": {},
   "outputs": [
    {
     "name": "stdout",
     "output_type": "stream",
     "text": [
      "Best MCC:  0.9356357754937843\n",
      "Best TPR:  0.9276424347398304\n",
      "Best FPR:  0.006012817056224983\n",
      "Best precision:  0.9615020980506719\n",
      "ROC:  0.9967741634377211\n",
      "PR:  0.9851022127415301\n"
     ]
    }
   ],
   "source": [
    "best_threshold_phylum = get_threshold(netstart_phylum_df)"
   ]
  },
  {
   "cell_type": "code",
   "execution_count": 32,
   "metadata": {},
   "outputs": [
    {
     "name": "stdout",
     "output_type": "stream",
     "text": [
      "Best MCC:  0.9319119564821048\n",
      "Best TPR:  0.9360875670024905\n",
      "Best FPR:  0.00854387456706141\n",
      "Best precision:  0.9466287331125725\n",
      "ROC:  0.9966128442628567\n",
      "PR:  0.9842926107965031\n"
     ]
    }
   ],
   "source": [
    "best_threshold_species_unknown = get_threshold(netstart_species_unknown_df)"
   ]
  },
  {
   "cell_type": "code",
   "execution_count": 41,
   "metadata": {},
   "outputs": [],
   "source": [
    "def visualize_mcc(netstart_df, best_threshold_netstart,\n",
    "                          netstart_phylum_df, best_threshold_phylum,\n",
    "                          best_threshold_species_unknown, netstart_species_unknown_df,\n",
    "                          title):\n",
    "    \n",
    "    \n",
    "    def __calculate_mcc__(preds_df, best_threshold):\n",
    "        vertebrates_df = preds_df[preds_df[\"species\"].isin(vertebrates_list)]\n",
    "        invertebrates_df = preds_df[preds_df[\"species\"].isin(invertebrates_list)]\n",
    "        plants_df = preds_df[preds_df[\"species\"].isin(plants_list)]\n",
    "        fungi_df = preds_df[preds_df[\"species\"].isin(fungi_list)]\n",
    "        protozoa_df = preds_df[preds_df[\"species\"].isin(protozoa_list)]\n",
    "\n",
    "        # Binary predictions for threshold-dependent metrics\n",
    "        binary_preds_vertebrates = (vertebrates_df['preds'] >= best_threshold).astype(int)\n",
    "        binary_preds_invertebrates = (invertebrates_df['preds'] >= best_threshold).astype(int)\n",
    "        binary_preds_plants = (plants_df['preds'] >= best_threshold).astype(int)\n",
    "        binary_preds_fungi = (fungi_df['preds'] >= best_threshold).astype(int)\n",
    "        binary_preds_protozoa = (protozoa_df['preds'] >= best_threshold).astype(int)\n",
    "\n",
    "        # Calculate MCC\n",
    "        return [round(matthews_corrcoef(vertebrates_df[\"label\"], binary_preds_vertebrates), 3),\n",
    "                round(matthews_corrcoef(invertebrates_df[\"label\"], binary_preds_invertebrates), 3),\n",
    "                round(matthews_corrcoef(plants_df[\"label\"], binary_preds_plants), 3),\n",
    "                round(matthews_corrcoef(fungi_df[\"label\"], binary_preds_fungi), 3),\n",
    "                round(matthews_corrcoef(protozoa_df[\"label\"], binary_preds_protozoa), 3)]\n",
    "    \n",
    "    # Create figure and axes\n",
    "    fig, ax = plt.subplots(figsize=(12, 6))  # One axes for the plot\n",
    "\n",
    "    # Create non-TIS plot on the first subplot (fig) and make bars wider\n",
    "    bar_width = 0.24  # Wider bars for non-TIS plot\n",
    "    index = np.arange(5)  # Sequence types for non-TIS\n",
    "\n",
    "    mccs_netstart = __calculate_mcc__(netstart_df, best_threshold_netstart)\n",
    "    mccs_phylum = __calculate_mcc__(netstart_phylum_df, best_threshold_phylum)\n",
    "    mccs_species_unknown = __calculate_mcc__(best_threshold_species_unknown, netstart_species_unknown_df)\n",
    "\n",
    "    colors = ['#2ecc71', '#3498db', '#e74c3c', '#f1c40f', '#9b59b6', '#e67e22', '#1abc9c', '#34495e']\n",
    "\n",
    "    # Plot bars for each of the MCC values\n",
    "    bar1 = ax.bar(index, mccs_species_unknown, bar_width, label='No organism input', color=colors[0])\n",
    "    bar2 = ax.bar(index + 1 * bar_width, mccs_phylum, bar_width, label='Phylum input', color=colors[1])\n",
    "    bar3 = ax.bar(index + 2 * bar_width, mccs_netstart, bar_width, label='Species input', color=colors[3])\n",
    "\n",
    "    # Labels and title\n",
    "    ax.set_ylabel('MCC', fontsize=17)\n",
    "    ax.set_title(f'{title}', fontsize=16)\n",
    "    ax.set_xticks(index + bar_width)\n",
    "    ax.set_xticklabels(['Vertebrates', 'Invertebrates', 'Plants', 'Fungi', 'Protozoa'], fontsize=16)\n",
    "    ax.tick_params(axis='y', labelsize=16)  # Sets fontsize of y-axis tick labels to 16\n",
    "    ax.legend(title=\"Species label\", fontsize=12, title_fontsize=13).get_title().set_fontweight('bold')\n",
    "\n",
    "    ax.set_ylim([0.88,0.95])\n",
    "\n",
    "    # Adding value annotations on top of each bar\n",
    "    def autolabel(bars, ax):\n",
    "        for bar in bars:\n",
    "            height = bar.get_height()\n",
    "            ax.text(bar.get_x() + bar.get_width() / 2., height,\n",
    "                    '%.3f' % height, ha='center', va='bottom', fontsize=12)\n",
    "\n",
    "    autolabel(bar1, ax)\n",
    "    autolabel(bar2, ax)\n",
    "    autolabel(bar3, ax)\n",
    "\n",
    "    # Adjust layout and show the plot\n",
    "    plt.tight_layout()\n",
    "    plt.savefig(\"../../results/evaluation/netstart2_performance/mcc_species_input.png\")\n",
    "    plt.show()\n",
    "\n"
   ]
  },
  {
   "cell_type": "code",
   "execution_count": 42,
   "metadata": {},
   "outputs": [
    {
     "data": {
      "image/png": "[encoded data removed]",
      "text/plain": [
       "<Figure size 864x432 with 1 Axes>"
      ]
     },
     "metadata": {
      "needs_background": "light"
     },
     "output_type": "display_data"
    }
   ],
   "source": [
    "visualize_mcc(netstart_overall_df, 0.625,\n",
    "              netstart_phylum_df, 0.625,\n",
    "              netstart_species_unknown_df, 0.625,\n",
    "              \"\")"
   ]
  }
 ],
 "metadata": {
  "kernelspec": {
   "display_name": "Python 3",
   "language": "python",
   "name": "python3"
  },
  "language_info": {
   "codemirror_mode": {
    "name": "ipython",
    "version": 3
   },
   "file_extension": ".py",
   "mimetype": "text/x-python",
   "name": "python",
   "nbconvert_exporter": "python",
   "pygments_lexer": "ipython3",
   "version": "3.8.10"
  }
 },
 "nbformat": 4,
 "nbformat_minor": 2
}
